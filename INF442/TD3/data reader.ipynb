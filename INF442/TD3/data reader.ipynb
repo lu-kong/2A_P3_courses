{
 "nbformat": 4,
 "nbformat_minor": 2,
 "metadata": {
  "language_info": {
   "name": "python",
   "codemirror_mode": {
    "name": "ipython",
    "version": 3
   },
   "version": "3.7.7-final"
  },
  "orig_nbformat": 2,
  "file_extension": ".py",
  "mimetype": "text/x-python",
  "name": "python",
  "npconvert_exporter": "python",
  "pygments_lexer": "ipython3",
  "version": 3,
  "kernelspec": {
   "name": "python37764bittfgpucondac29f35c7f9a8447c8846ce33683d7deb",
   "display_name": "Python 3.7.7 64-bit ('tfgpu': conda)"
  }
 },
 "cells": [
  {
   "cell_type": "code",
   "execution_count": 1,
   "metadata": {},
   "outputs": [],
   "source": [
    "import pandas as pd"
   ]
  },
  {
   "cell_type": "code",
   "execution_count": 9,
   "metadata": {},
   "outputs": [],
   "source": [
    "data = pd.read_csv('cereals.csv','\\t')\n",
    "# df = pd.DataFrame(data)"
   ]
  },
  {
   "cell_type": "code",
   "execution_count": 15,
   "metadata": {},
   "outputs": [
    {
     "output_type": "execute_result",
     "data": {
      "text/plain": "   calories  protein  fat  sodium  fiber  carbo  sugars  potass  vitamins  \\\n0        70        4    1     130   10.0    5.0       6     280        25   \n1       120        3    5      15    2.0    8.0       8     135         0   \n2        70        4    1     260    9.0    7.0       5     320        25   \n3        50        4    0     140   14.0    8.0       0     330        25   \n4       110        2    2     200    1.0   14.0       8      -1        25   \n5       110        2    2     180    1.5   10.5      10      70        25   \n6       110        2    0     125    1.0   11.0      14      30        25   \n7       130        3    2     210    2.0   18.0       8     100        25   \n8        90        2    1     200    4.0   15.0       6     125        25   \n9        90        3    0     210    5.0   13.0       5     190        25   \n\n   shelf  weight  cups     rating                       name  \n0      3    1.00  0.33  68.402973                  100%_Bran  \n1      3    1.00  1.00  33.983679          100%_Natural_Bran  \n2      3    1.00  0.33  59.425505                   All-Bran  \n3      3    1.00  0.50  93.704912  All-Bran_with_Extra_Fiber  \n4      3    1.00  0.75  34.384843             Almond_Delight  \n5      1    1.00  0.75  29.509541    Apple_Cinnamon_Cheerios  \n6      2    1.00  1.00  33.174094                Apple_Jacks  \n7      3    1.33  0.75  37.038562                    Basic_4  \n8      1    1.00  0.67  49.120253                  Bran_Chex  \n9      3    1.00  0.67  53.313813                Bran_Flakes  ",
      "text/html": "<div>\n<style scoped>\n    .dataframe tbody tr th:only-of-type {\n        vertical-align: middle;\n    }\n\n    .dataframe tbody tr th {\n        vertical-align: top;\n    }\n\n    .dataframe thead th {\n        text-align: right;\n    }\n</style>\n<table border=\"1\" class=\"dataframe\">\n  <thead>\n    <tr style=\"text-align: right;\">\n      <th></th>\n      <th>calories</th>\n      <th>protein</th>\n      <th>fat</th>\n      <th>sodium</th>\n      <th>fiber</th>\n      <th>carbo</th>\n      <th>sugars</th>\n      <th>potass</th>\n      <th>vitamins</th>\n      <th>shelf</th>\n      <th>weight</th>\n      <th>cups</th>\n      <th>rating</th>\n      <th>name</th>\n    </tr>\n  </thead>\n  <tbody>\n    <tr>\n      <th>0</th>\n      <td>70</td>\n      <td>4</td>\n      <td>1</td>\n      <td>130</td>\n      <td>10.0</td>\n      <td>5.0</td>\n      <td>6</td>\n      <td>280</td>\n      <td>25</td>\n      <td>3</td>\n      <td>1.00</td>\n      <td>0.33</td>\n      <td>68.402973</td>\n      <td>100%_Bran</td>\n    </tr>\n    <tr>\n      <th>1</th>\n      <td>120</td>\n      <td>3</td>\n      <td>5</td>\n      <td>15</td>\n      <td>2.0</td>\n      <td>8.0</td>\n      <td>8</td>\n      <td>135</td>\n      <td>0</td>\n      <td>3</td>\n      <td>1.00</td>\n      <td>1.00</td>\n      <td>33.983679</td>\n      <td>100%_Natural_Bran</td>\n    </tr>\n    <tr>\n      <th>2</th>\n      <td>70</td>\n      <td>4</td>\n      <td>1</td>\n      <td>260</td>\n      <td>9.0</td>\n      <td>7.0</td>\n      <td>5</td>\n      <td>320</td>\n      <td>25</td>\n      <td>3</td>\n      <td>1.00</td>\n      <td>0.33</td>\n      <td>59.425505</td>\n      <td>All-Bran</td>\n    </tr>\n    <tr>\n      <th>3</th>\n      <td>50</td>\n      <td>4</td>\n      <td>0</td>\n      <td>140</td>\n      <td>14.0</td>\n      <td>8.0</td>\n      <td>0</td>\n      <td>330</td>\n      <td>25</td>\n      <td>3</td>\n      <td>1.00</td>\n      <td>0.50</td>\n      <td>93.704912</td>\n      <td>All-Bran_with_Extra_Fiber</td>\n    </tr>\n    <tr>\n      <th>4</th>\n      <td>110</td>\n      <td>2</td>\n      <td>2</td>\n      <td>200</td>\n      <td>1.0</td>\n      <td>14.0</td>\n      <td>8</td>\n      <td>-1</td>\n      <td>25</td>\n      <td>3</td>\n      <td>1.00</td>\n      <td>0.75</td>\n      <td>34.384843</td>\n      <td>Almond_Delight</td>\n    </tr>\n    <tr>\n      <th>5</th>\n      <td>110</td>\n      <td>2</td>\n      <td>2</td>\n      <td>180</td>\n      <td>1.5</td>\n      <td>10.5</td>\n      <td>10</td>\n      <td>70</td>\n      <td>25</td>\n      <td>1</td>\n      <td>1.00</td>\n      <td>0.75</td>\n      <td>29.509541</td>\n      <td>Apple_Cinnamon_Cheerios</td>\n    </tr>\n    <tr>\n      <th>6</th>\n      <td>110</td>\n      <td>2</td>\n      <td>0</td>\n      <td>125</td>\n      <td>1.0</td>\n      <td>11.0</td>\n      <td>14</td>\n      <td>30</td>\n      <td>25</td>\n      <td>2</td>\n      <td>1.00</td>\n      <td>1.00</td>\n      <td>33.174094</td>\n      <td>Apple_Jacks</td>\n    </tr>\n    <tr>\n      <th>7</th>\n      <td>130</td>\n      <td>3</td>\n      <td>2</td>\n      <td>210</td>\n      <td>2.0</td>\n      <td>18.0</td>\n      <td>8</td>\n      <td>100</td>\n      <td>25</td>\n      <td>3</td>\n      <td>1.33</td>\n      <td>0.75</td>\n      <td>37.038562</td>\n      <td>Basic_4</td>\n    </tr>\n    <tr>\n      <th>8</th>\n      <td>90</td>\n      <td>2</td>\n      <td>1</td>\n      <td>200</td>\n      <td>4.0</td>\n      <td>15.0</td>\n      <td>6</td>\n      <td>125</td>\n      <td>25</td>\n      <td>1</td>\n      <td>1.00</td>\n      <td>0.67</td>\n      <td>49.120253</td>\n      <td>Bran_Chex</td>\n    </tr>\n    <tr>\n      <th>9</th>\n      <td>90</td>\n      <td>3</td>\n      <td>0</td>\n      <td>210</td>\n      <td>5.0</td>\n      <td>13.0</td>\n      <td>5</td>\n      <td>190</td>\n      <td>25</td>\n      <td>3</td>\n      <td>1.00</td>\n      <td>0.67</td>\n      <td>53.313813</td>\n      <td>Bran_Flakes</td>\n    </tr>\n  </tbody>\n</table>\n</div>"
     },
     "metadata": {},
     "execution_count": 15
    }
   ],
   "source": [
    "data.head(10)"
   ]
  },
  {
   "cell_type": "code",
   "execution_count": 13,
   "metadata": {},
   "outputs": [
    {
     "output_type": "execute_result",
     "data": {
      "text/plain": "(77, 14)"
     },
     "metadata": {},
     "execution_count": 13
    }
   ],
   "source": [
    "data.shape"
   ]
  },
  {
   "cell_type": "code",
   "execution_count": null,
   "metadata": {},
   "outputs": [],
   "source": []
  }
 ]
}